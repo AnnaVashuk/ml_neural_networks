{
 "cells": [
  {
   "cell_type": "code",
   "execution_count": 1,
   "id": "795d50a4-9d28-487a-a3ff-259cbf16c2fd",
   "metadata": {},
   "outputs": [],
   "source": [
    "import pandas as pd\n",
    "import numpy as np\n",
    "\n",
    "clean = pd.read_csv('clean.csv')"
   ]
  },
  {
   "cell_type": "code",
   "execution_count": 2,
   "id": "059b44ef-cb57-4841-8f0c-f29793ff0782",
   "metadata": {},
   "outputs": [
    {
     "data": {
      "text/html": [
       "<div>\n",
       "<style scoped>\n",
       "    .dataframe tbody tr th:only-of-type {\n",
       "        vertical-align: middle;\n",
       "    }\n",
       "\n",
       "    .dataframe tbody tr th {\n",
       "        vertical-align: top;\n",
       "    }\n",
       "\n",
       "    .dataframe thead th {\n",
       "        text-align: right;\n",
       "    }\n",
       "</style>\n",
       "<table border=\"1\" class=\"dataframe\">\n",
       "  <thead>\n",
       "    <tr style=\"text-align: right;\">\n",
       "      <th></th>\n",
       "      <th>target</th>\n",
       "      <th>text</th>\n",
       "    </tr>\n",
       "  </thead>\n",
       "  <tbody>\n",
       "    <tr>\n",
       "      <th>0</th>\n",
       "      <td>0</td>\n",
       "      <td>my pleasant home working morning is being ruin...</td>\n",
       "    </tr>\n",
       "    <tr>\n",
       "      <th>1</th>\n",
       "      <td>0</td>\n",
       "      <td>Yes I love them much more than my marscapone ...</td>\n",
       "    </tr>\n",
       "    <tr>\n",
       "      <th>2</th>\n",
       "      <td>0</td>\n",
       "      <td>You will be missed</td>\n",
       "    </tr>\n",
       "    <tr>\n",
       "      <th>3</th>\n",
       "      <td>0</td>\n",
       "      <td>Is extremely sad that Spring Break is coming t...</td>\n",
       "    </tr>\n",
       "    <tr>\n",
       "      <th>4</th>\n",
       "      <td>0</td>\n",
       "      <td>Hayley is awake amp screaming sick   Ill be in...</td>\n",
       "    </tr>\n",
       "  </tbody>\n",
       "</table>\n",
       "</div>"
      ],
      "text/plain": [
       "   target                                               text\n",
       "0       0  my pleasant home working morning is being ruin...\n",
       "1       0   Yes I love them much more than my marscapone ...\n",
       "2       0                               You will be missed  \n",
       "3       0  Is extremely sad that Spring Break is coming t...\n",
       "4       0  Hayley is awake amp screaming sick   Ill be in..."
      ]
     },
     "execution_count": 2,
     "metadata": {},
     "output_type": "execute_result"
    }
   ],
   "source": [
    "clean.head()"
   ]
  },
  {
   "cell_type": "code",
   "execution_count": 3,
   "id": "c9980c87-a6ee-4c90-94ce-6ee6bd920134",
   "metadata": {},
   "outputs": [
    {
     "data": {
      "text/plain": [
       "count    100000.000000\n",
       "mean         14.660900\n",
       "std           6.935909\n",
       "min           2.000000\n",
       "25%           9.000000\n",
       "50%          14.000000\n",
       "75%          20.000000\n",
       "max          90.000000\n",
       "Name: text, dtype: float64"
      ]
     },
     "execution_count": 3,
     "metadata": {},
     "output_type": "execute_result"
    }
   ],
   "source": [
    "number_of_words = clean.text.map(lambda x: len(x.split(' ')))\n",
    "number_of_words.describe()"
   ]
  },
  {
   "cell_type": "code",
   "execution_count": 4,
   "id": "d780117d-59fe-4ff5-af03-75c1f4fa846e",
   "metadata": {},
   "outputs": [
    {
     "name": "stdout",
     "output_type": "stream",
     "text": [
      "Total number of words: 1466090\n",
      "Total number of unique words: 69731\n"
     ]
    }
   ],
   "source": [
    "texts = clean.text.values\n",
    "words = []\n",
    "for str in texts:\n",
    "    words += str.lower().split(' ')\n",
    "\n",
    "unique, counts = np.unique(words, return_counts=True)\n",
    "\n",
    "print(f'Total number of words: {len(words)}')\n",
    "print(f'Total number of unique words: {len(unique)}')"
   ]
  },
  {
   "cell_type": "code",
   "execution_count": 5,
   "id": "8dad878b-b597-4909-a2a7-7ceb8531e227",
   "metadata": {},
   "outputs": [
    {
     "name": "stdout",
     "output_type": "stream",
     "text": [
      "Number of words that appears more that 5 times: 9473\n"
     ]
    }
   ],
   "source": [
    "### Making vocab size equals to unique words is wrong\n",
    "### Rare words will not make it more effective\n",
    "times = 5\n",
    "print(f'Number of words that appears more that {times} times: {np.sum(counts > times)}')"
   ]
  }
 ],
 "metadata": {
  "kernelspec": {
   "display_name": "Python 3 (ipykernel)",
   "language": "python",
   "name": "python3"
  },
  "language_info": {
   "codemirror_mode": {
    "name": "ipython",
    "version": 3
   },
   "file_extension": ".py",
   "mimetype": "text/x-python",
   "name": "python",
   "nbconvert_exporter": "python",
   "pygments_lexer": "ipython3",
   "version": "3.11.5"
  }
 },
 "nbformat": 4,
 "nbformat_minor": 5
}
