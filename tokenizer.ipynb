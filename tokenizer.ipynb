{
 "cells": [
  {
   "cell_type": "code",
   "execution_count": 1,
   "id": "3fbed828-8632-4849-8f32-779f4ab3c55a",
   "metadata": {},
   "outputs": [
    {
     "name": "stderr",
     "output_type": "stream",
     "text": [
      "2024-05-23 11:48:45.591892: I tensorflow/core/platform/cpu_feature_guard.cc:182] This TensorFlow binary is optimized to use available CPU instructions in performance-critical operations.\n",
      "To enable the following instructions: SSE4.1 SSE4.2 AVX AVX2 FMA, in other operations, rebuild TensorFlow with the appropriate compiler flags.\n"
     ]
    }
   ],
   "source": [
    "from tensorflow.keras.preprocessing.text import Tokenizer\n",
    "from tensorflow.keras.preprocessing.text import tokenizer_from_json\n",
    "import json\n",
    "import pandas as pd\n",
    "\n",
    "import hyperparams as hp"
   ]
  },
  {
   "cell_type": "code",
   "execution_count": 2,
   "id": "2c47aeb7-26c4-421b-bb28-a70f21df4405",
   "metadata": {},
   "outputs": [],
   "source": [
    "tokenizer = Tokenizer(\n",
    "    num_words = hp.vocab_size, \n",
    "    lower = True, \n",
    "    split = ' ', \n",
    "    char_level = False,\n",
    "    oov_token = hp.oov_tok\n",
    ")\n",
    "train = pd.read_csv('train.csv')\n",
    "test = pd.read_csv('test.csv')\n",
    "\n",
    "all = pd.concat([train, test])\n",
    "\n",
    "texts = all['text'].values\n",
    "\n",
    "tokenizer.fit_on_texts(texts)\n",
    "\n",
    "tokenizer_json = tokenizer.to_json()\n",
    "\n",
    "with open('tokenizer.json', 'w', encoding='utf-8') as file:\n",
    "    json.dump(tokenizer_json, file, ensure_ascii=False)"
   ]
  }
 ],
 "metadata": {
  "kernelspec": {
   "display_name": "Python 3 (ipykernel)",
   "language": "python",
   "name": "python3"
  },
  "language_info": {
   "codemirror_mode": {
    "name": "ipython",
    "version": 3
   },
   "file_extension": ".py",
   "mimetype": "text/x-python",
   "name": "python",
   "nbconvert_exporter": "python",
   "pygments_lexer": "ipython3",
   "version": "3.11.5"
  }
 },
 "nbformat": 4,
 "nbformat_minor": 5
}
