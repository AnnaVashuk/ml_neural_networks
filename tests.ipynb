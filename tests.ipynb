{
 "cells": [
  {
   "cell_type": "code",
   "execution_count": 9,
   "id": "95897278-c9ba-45bc-abc9-7f40645b3728",
   "metadata": {},
   "outputs": [
    {
     "name": "stderr",
     "output_type": "stream",
     "text": [
      "2024-05-23 15:20:34.852565: I tensorflow/core/common_runtime/executor.cc:1197] [/device:CPU:0] (DEBUG INFO) Executor start aborting (this does not indicate an error and you can ignore this message): INVALID_ARGUMENT: You must feed a value for placeholder tensor 'gradients/split_2_grad/concat/split_2/split_dim' with dtype int32\n",
      "\t [[{{node gradients/split_2_grad/concat/split_2/split_dim}}]]\n",
      "2024-05-23 15:20:34.854862: I tensorflow/core/common_runtime/executor.cc:1197] [/device:CPU:0] (DEBUG INFO) Executor start aborting (this does not indicate an error and you can ignore this message): INVALID_ARGUMENT: You must feed a value for placeholder tensor 'gradients/split_grad/concat/split/split_dim' with dtype int32\n",
      "\t [[{{node gradients/split_grad/concat/split/split_dim}}]]\n",
      "2024-05-23 15:20:34.856335: I tensorflow/core/common_runtime/executor.cc:1197] [/device:CPU:0] (DEBUG INFO) Executor start aborting (this does not indicate an error and you can ignore this message): INVALID_ARGUMENT: You must feed a value for placeholder tensor 'gradients/split_1_grad/concat/split_1/split_dim' with dtype int32\n",
      "\t [[{{node gradients/split_1_grad/concat/split_1/split_dim}}]]\n",
      "2024-05-23 15:20:35.155046: I tensorflow/core/common_runtime/executor.cc:1197] [/device:CPU:0] (DEBUG INFO) Executor start aborting (this does not indicate an error and you can ignore this message): INVALID_ARGUMENT: You must feed a value for placeholder tensor 'gradients/split_2_grad/concat/split_2/split_dim' with dtype int32\n",
      "\t [[{{node gradients/split_2_grad/concat/split_2/split_dim}}]]\n",
      "2024-05-23 15:20:35.157197: I tensorflow/core/common_runtime/executor.cc:1197] [/device:CPU:0] (DEBUG INFO) Executor start aborting (this does not indicate an error and you can ignore this message): INVALID_ARGUMENT: You must feed a value for placeholder tensor 'gradients/split_grad/concat/split/split_dim' with dtype int32\n",
      "\t [[{{node gradients/split_grad/concat/split/split_dim}}]]\n",
      "2024-05-23 15:20:35.158858: I tensorflow/core/common_runtime/executor.cc:1197] [/device:CPU:0] (DEBUG INFO) Executor start aborting (this does not indicate an error and you can ignore this message): INVALID_ARGUMENT: You must feed a value for placeholder tensor 'gradients/split_1_grad/concat/split_1/split_dim' with dtype int32\n",
      "\t [[{{node gradients/split_1_grad/concat/split_1/split_dim}}]]\n"
     ]
    }
   ],
   "source": [
    "import pandas as pd\n",
    "import tensorflow as tf\n",
    "from tensorflow import keras\n",
    "from tensorflow.keras.utils import pad_sequences\n",
    "from tensorflow.keras.preprocessing.text import Tokenizer\n",
    "from tensorflow.keras.preprocessing.text import tokenizer_from_json\n",
    "\n",
    "import json\n",
    "\n",
    "import hyperparams as hp\n",
    "\n",
    "### Load model\n",
    "model_gru = keras.models.load_model('gru.keras')\n",
    "model_lstm = keras.models.load_model('lstm.keras')\n",
    "\n",
    "### Load fitted tokenizer\n",
    "with open('tokenizer.json') as file:\n",
    "    data = json.load(file)\n",
    "    tokenizer = tokenizer_from_json(data)\n",
    "\n",
    "def describe_confusion(confusion):\n",
    "    tp = confusion[0][0]\n",
    "    fp = confusion[0][1]\n",
    "    fn = confusion[1][0]\n",
    "    tn = confusion[1][1]\n",
    "    \n",
    "    accuracy = (tp + tn) / (tp + fp + fn + tn)\n",
    "    precision = tp / (tp + fp)\n",
    "    recall = tp / (tp + fn)\n",
    "    f1_score = 2 * precision * recall / (precision + recall)\n",
    "    specificity = tn / (fp + tn)\n",
    "    \n",
    "    print('Confusion matrix')\n",
    "    print(confusion)\n",
    "    print('-------------------')\n",
    "    print('Precision, recall, F1 Score for positive class')\n",
    "    print(f'Accuracy: {accuracy}')\n",
    "    print(f'Precision: {precision}')\n",
    "    print(f'Recall: {recall}')\n",
    "    print(f'F1 Score: {f1_score}')\n",
    "    print(f'Specificity: {specificity}')"
   ]
  },
  {
   "cell_type": "code",
   "execution_count": 2,
   "id": "c612b1a9-2679-4650-a8a3-aa6f772f627f",
   "metadata": {},
   "outputs": [],
   "source": [
    "# for i in range(5): \n",
    "#     text = input('message: ')\n",
    "\n",
    "#     data = tokenizer.texts_to_sequences([text])\n",
    "#     padded = pad_sequences(data, maxlen = hp.max_length)\n",
    "\n",
    "#     p = model.predict(padded)[0][0]\n",
    "\n",
    "#     print(f'{p} --> ', end='')\n",
    "          \n",
    "#     if p > 0.6:\n",
    "#         print('positive')\n",
    "#     elif p > 0.4: \n",
    "#         print('neutral')\n",
    "#     else:\n",
    "#         print('negative')"
   ]
  },
  {
   "cell_type": "code",
   "execution_count": 3,
   "id": "b1f496d8-2698-4428-872f-254364454266",
   "metadata": {},
   "outputs": [],
   "source": [
    "test = pd.read_csv('test.csv')\n",
    "\n",
    "X = tokenizer.texts_to_sequences(test.text.values)\n",
    "X = pad_sequences(X, maxlen = hp.max_length)"
   ]
  },
  {
   "cell_type": "code",
   "execution_count": 4,
   "id": "637891c7-3e51-4451-8cd9-37fddea6b34a",
   "metadata": {},
   "outputs": [
    {
     "name": "stderr",
     "output_type": "stream",
     "text": [
      "2024-05-23 15:18:28.302165: I tensorflow/core/common_runtime/executor.cc:1197] [/device:CPU:0] (DEBUG INFO) Executor start aborting (this does not indicate an error and you can ignore this message): INVALID_ARGUMENT: You must feed a value for placeholder tensor 'gradients/split_2_grad/concat/split_2/split_dim' with dtype int32\n",
      "\t [[{{node gradients/split_2_grad/concat/split_2/split_dim}}]]\n",
      "2024-05-23 15:18:28.303917: I tensorflow/core/common_runtime/executor.cc:1197] [/device:CPU:0] (DEBUG INFO) Executor start aborting (this does not indicate an error and you can ignore this message): INVALID_ARGUMENT: You must feed a value for placeholder tensor 'gradients/split_grad/concat/split/split_dim' with dtype int32\n",
      "\t [[{{node gradients/split_grad/concat/split/split_dim}}]]\n",
      "2024-05-23 15:18:28.305671: I tensorflow/core/common_runtime/executor.cc:1197] [/device:CPU:0] (DEBUG INFO) Executor start aborting (this does not indicate an error and you can ignore this message): INVALID_ARGUMENT: You must feed a value for placeholder tensor 'gradients/split_1_grad/concat/split_1/split_dim' with dtype int32\n",
      "\t [[{{node gradients/split_1_grad/concat/split_1/split_dim}}]]\n"
     ]
    },
    {
     "name": "stdout",
     "output_type": "stream",
     "text": [
      "3125/3125 [==============================] - 37s 12ms/step\n",
      "   1/3125 [..............................] - ETA: 16:54"
     ]
    },
    {
     "name": "stderr",
     "output_type": "stream",
     "text": [
      "2024-05-23 15:19:06.065798: I tensorflow/core/common_runtime/executor.cc:1197] [/device:CPU:0] (DEBUG INFO) Executor start aborting (this does not indicate an error and you can ignore this message): INVALID_ARGUMENT: You must feed a value for placeholder tensor 'gradients/split_2_grad/concat/split_2/split_dim' with dtype int32\n",
      "\t [[{{node gradients/split_2_grad/concat/split_2/split_dim}}]]\n",
      "2024-05-23 15:19:06.067296: I tensorflow/core/common_runtime/executor.cc:1197] [/device:CPU:0] (DEBUG INFO) Executor start aborting (this does not indicate an error and you can ignore this message): INVALID_ARGUMENT: You must feed a value for placeholder tensor 'gradients/split_grad/concat/split/split_dim' with dtype int32\n",
      "\t [[{{node gradients/split_grad/concat/split/split_dim}}]]\n",
      "2024-05-23 15:19:06.068460: I tensorflow/core/common_runtime/executor.cc:1197] [/device:CPU:0] (DEBUG INFO) Executor start aborting (this does not indicate an error and you can ignore this message): INVALID_ARGUMENT: You must feed a value for placeholder tensor 'gradients/split_1_grad/concat/split_1/split_dim' with dtype int32\n",
      "\t [[{{node gradients/split_1_grad/concat/split_1/split_dim}}]]\n"
     ]
    },
    {
     "name": "stdout",
     "output_type": "stream",
     "text": [
      "3125/3125 [==============================] - 37s 12ms/step\n"
     ]
    }
   ],
   "source": [
    "preds_gru = model_gru.predict(X)\n",
    "preds_lstm = model_lstm.predict(X)"
   ]
  },
  {
   "cell_type": "code",
   "execution_count": 5,
   "id": "bbf79a6c-7e34-41e0-ba8b-8dd8e601e129",
   "metadata": {},
   "outputs": [],
   "source": [
    "preds_gru = [ 1 if x > 0.5 else 0 for x in preds_gru ]\n",
    "preds_lstm = [ 1 if x > 0.5 else 0 for x in preds_lstm ]"
   ]
  },
  {
   "cell_type": "code",
   "execution_count": 6,
   "id": "b5cdfcaa-205e-4ed5-a838-edaa4fd80633",
   "metadata": {},
   "outputs": [],
   "source": [
    "confusion_gru = tf.math.confusion_matrix(test.target, preds_gru).numpy()\n",
    "confusion_lstm = tf.math.confusion_matrix(test.target, preds_lstm).numpy()"
   ]
  },
  {
   "cell_type": "code",
   "execution_count": 10,
   "id": "1d306b9b-c925-4089-9f34-53feebb0aa75",
   "metadata": {},
   "outputs": [
    {
     "name": "stdout",
     "output_type": "stream",
     "text": [
      "GRU\n",
      "Confusion matrix\n",
      "[[38818 11182]\n",
      " [12360 37640]]\n",
      "-------------------\n",
      "Precision, recall, F1 Score for positive class\n",
      "Accuracy: 0.76458\n",
      "Precision: 0.77636\n",
      "Recall: 0.7584899761616319\n",
      "F1 Score: 0.7673209591017811\n",
      "Specificity: 0.7709639097128343\n"
     ]
    }
   ],
   "source": [
    "print('GRU')\n",
    "describe_confusion(confusion_gru)"
   ]
  },
  {
   "cell_type": "code",
   "execution_count": 11,
   "id": "6dcdb583-51e8-4b52-9b27-5fbb5af29b62",
   "metadata": {},
   "outputs": [
    {
     "name": "stdout",
     "output_type": "stream",
     "text": [
      "LSTM\n",
      "Confusion matrix\n",
      "[[40379  9621]\n",
      " [14061 35939]]\n",
      "-------------------\n",
      "Precision, recall, F1 Score for positive class\n",
      "Accuracy: 0.76318\n",
      "Precision: 0.80758\n",
      "Recall: 0.7417156502571639\n",
      "F1 Score: 0.7732477977786288\n",
      "Specificity: 0.7888279192273925\n"
     ]
    }
   ],
   "source": [
    "print('LSTM')\n",
    "describe_confusion(confusion_lstm)"
   ]
  }
 ],
 "metadata": {
  "kernelspec": {
   "display_name": "Python 3 (ipykernel)",
   "language": "python",
   "name": "python3"
  },
  "language_info": {
   "codemirror_mode": {
    "name": "ipython",
    "version": 3
   },
   "file_extension": ".py",
   "mimetype": "text/x-python",
   "name": "python",
   "nbconvert_exporter": "python",
   "pygments_lexer": "ipython3",
   "version": "3.11.5"
  }
 },
 "nbformat": 4,
 "nbformat_minor": 5
}
