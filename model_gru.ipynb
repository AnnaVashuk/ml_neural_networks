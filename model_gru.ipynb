{
 "cells": [
  {
   "cell_type": "code",
   "execution_count": 1,
   "id": "db16bf8f-94d1-44f8-8c53-1146f289bfe9",
   "metadata": {},
   "outputs": [
    {
     "name": "stderr",
     "output_type": "stream",
     "text": [
      "2024-05-23 11:59:14.171889: I tensorflow/core/platform/cpu_feature_guard.cc:182] This TensorFlow binary is optimized to use available CPU instructions in performance-critical operations.\n",
      "To enable the following instructions: SSE4.1 SSE4.2 AVX AVX2 FMA, in other operations, rebuild TensorFlow with the appropriate compiler flags.\n"
     ]
    }
   ],
   "source": [
    "import pandas as pd\n",
    "from sklearn.model_selection import train_test_split\n",
    "\n",
    "import tensorflow as tf\n",
    "from tensorflow import keras\n",
    "from tensorflow.keras.utils import pad_sequences\n",
    "from tensorflow.keras.preprocessing.text import Tokenizer\n",
    "from tensorflow.keras.preprocessing.text import tokenizer_from_json\n",
    "\n",
    "import json\n",
    "\n",
    "import hyperparams as hp"
   ]
  },
  {
   "cell_type": "code",
   "execution_count": 2,
   "id": "f17f147b-0e87-40a5-ba84-7c7369a2db6e",
   "metadata": {},
   "outputs": [],
   "source": [
    "### Load data\n",
    "clean = pd.read_csv('train.csv')"
   ]
  },
  {
   "cell_type": "code",
   "execution_count": 3,
   "id": "a876d6e4-1aed-44f0-8f10-46744ae904fb",
   "metadata": {},
   "outputs": [],
   "source": [
    "### Load fitted tokenizer\n",
    "with open('tokenizer.json') as file:\n",
    "    data = json.load(file)\n",
    "    tokenizer = tokenizer_from_json(data)"
   ]
  },
  {
   "cell_type": "code",
   "execution_count": 4,
   "id": "2e1e77f3-d86c-4fee-a2c5-adc7fd32532e",
   "metadata": {},
   "outputs": [],
   "source": [
    "### Convert text to vectors\n",
    "\n",
    "X = tokenizer.texts_to_sequences(clean['text'].values)\n",
    "X = pad_sequences(X, maxlen = hp.max_length)\n",
    "y = clean.target\n",
    "\n",
    "X_train, X_valid, y_train, y_valid = train_test_split(\n",
    "    X, y, \n",
    "    test_size = 0.2, \n",
    "    random_state = 42, \n",
    "    stratify=y\n",
    ")"
   ]
  },
  {
   "cell_type": "code",
   "execution_count": 5,
   "id": "8293ddfc-503e-4db0-9b12-f9c88c5bf8d5",
   "metadata": {},
   "outputs": [
    {
     "name": "stderr",
     "output_type": "stream",
     "text": [
      "2024-05-23 11:59:17.847102: I tensorflow/core/common_runtime/process_util.cc:146] Creating new thread pool with default inter op setting: 2. Tune using inter_op_parallelism_threads for best performance.\n"
     ]
    },
    {
     "name": "stdout",
     "output_type": "stream",
     "text": [
      "Model: \"sequential\"\n",
      "_________________________________________________________________\n",
      " Layer (type)                Output Shape              Param #   \n",
      "=================================================================\n",
      " embedding (Embedding)       (None, 100, 32)           480000    \n",
      "                                                                 \n",
      " gru (GRU)                   (None, 32)                6336      \n",
      "                                                                 \n",
      " dense (Dense)               (None, 32)                1056      \n",
      "                                                                 \n",
      " dense_1 (Dense)             (None, 1)                 33        \n",
      "                                                                 \n",
      "=================================================================\n",
      "Total params: 487,425\n",
      "Trainable params: 487,425\n",
      "Non-trainable params: 0\n",
      "_________________________________________________________________\n"
     ]
    },
    {
     "name": "stderr",
     "output_type": "stream",
     "text": [
      "2024-05-23 11:59:18.167996: I tensorflow/core/common_runtime/executor.cc:1197] [/device:CPU:0] (DEBUG INFO) Executor start aborting (this does not indicate an error and you can ignore this message): INVALID_ARGUMENT: You must feed a value for placeholder tensor 'gradients/split_2_grad/concat/split_2/split_dim' with dtype int32\n",
      "\t [[{{node gradients/split_2_grad/concat/split_2/split_dim}}]]\n",
      "2024-05-23 11:59:18.170591: I tensorflow/core/common_runtime/executor.cc:1197] [/device:CPU:0] (DEBUG INFO) Executor start aborting (this does not indicate an error and you can ignore this message): INVALID_ARGUMENT: You must feed a value for placeholder tensor 'gradients/split_grad/concat/split/split_dim' with dtype int32\n",
      "\t [[{{node gradients/split_grad/concat/split/split_dim}}]]\n",
      "2024-05-23 11:59:18.172393: I tensorflow/core/common_runtime/executor.cc:1197] [/device:CPU:0] (DEBUG INFO) Executor start aborting (this does not indicate an error and you can ignore this message): INVALID_ARGUMENT: You must feed a value for placeholder tensor 'gradients/split_1_grad/concat/split_1/split_dim' with dtype int32\n",
      "\t [[{{node gradients/split_1_grad/concat/split_1/split_dim}}]]\n"
     ]
    }
   ],
   "source": [
    "model = keras.Sequential([\n",
    "    keras.layers.Embedding(hp.vocab_size, hp.embedding_dim, input_length = hp.max_length),\n",
    "    keras.layers.GRU(32),\n",
    "    keras.layers.Dense(units=32, activation='relu'),\n",
    "    keras.layers.Dense(units=1, activation='sigmoid')\n",
    "])\n",
    "\n",
    "model.compile(loss='binary_crossentropy', optimizer='adam', metrics=['accuracy', 'binary_accuracy'])\n",
    "\n",
    "model.summary()"
   ]
  },
  {
   "cell_type": "code",
   "execution_count": 6,
   "id": "02b9f4cf-299e-4bff-8899-d823d50b3746",
   "metadata": {},
   "outputs": [
    {
     "name": "stdout",
     "output_type": "stream",
     "text": [
      "Epoch 1/10\n"
     ]
    },
    {
     "name": "stderr",
     "output_type": "stream",
     "text": [
      "2024-05-23 11:59:18.626610: I tensorflow/core/common_runtime/executor.cc:1197] [/device:CPU:0] (DEBUG INFO) Executor start aborting (this does not indicate an error and you can ignore this message): INVALID_ARGUMENT: You must feed a value for placeholder tensor 'gradients/split_2_grad/concat/split_2/split_dim' with dtype int32\n",
      "\t [[{{node gradients/split_2_grad/concat/split_2/split_dim}}]]\n",
      "2024-05-23 11:59:18.628769: I tensorflow/core/common_runtime/executor.cc:1197] [/device:CPU:0] (DEBUG INFO) Executor start aborting (this does not indicate an error and you can ignore this message): INVALID_ARGUMENT: You must feed a value for placeholder tensor 'gradients/split_grad/concat/split/split_dim' with dtype int32\n",
      "\t [[{{node gradients/split_grad/concat/split/split_dim}}]]\n",
      "2024-05-23 11:59:18.630747: I tensorflow/core/common_runtime/executor.cc:1197] [/device:CPU:0] (DEBUG INFO) Executor start aborting (this does not indicate an error and you can ignore this message): INVALID_ARGUMENT: You must feed a value for placeholder tensor 'gradients/split_1_grad/concat/split_1/split_dim' with dtype int32\n",
      "\t [[{{node gradients/split_1_grad/concat/split_1/split_dim}}]]\n",
      "2024-05-23 11:59:19.543737: I tensorflow/core/common_runtime/executor.cc:1197] [/device:CPU:0] (DEBUG INFO) Executor start aborting (this does not indicate an error and you can ignore this message): INVALID_ARGUMENT: You must feed a value for placeholder tensor 'gradients/split_2_grad/concat/split_2/split_dim' with dtype int32\n",
      "\t [[{{node gradients/split_2_grad/concat/split_2/split_dim}}]]\n",
      "2024-05-23 11:59:19.545963: I tensorflow/core/common_runtime/executor.cc:1197] [/device:CPU:0] (DEBUG INFO) Executor start aborting (this does not indicate an error and you can ignore this message): INVALID_ARGUMENT: You must feed a value for placeholder tensor 'gradients/split_grad/concat/split/split_dim' with dtype int32\n",
      "\t [[{{node gradients/split_grad/concat/split/split_dim}}]]\n",
      "2024-05-23 11:59:19.547717: I tensorflow/core/common_runtime/executor.cc:1197] [/device:CPU:0] (DEBUG INFO) Executor start aborting (this does not indicate an error and you can ignore this message): INVALID_ARGUMENT: You must feed a value for placeholder tensor 'gradients/split_1_grad/concat/split_1/split_dim' with dtype int32\n",
      "\t [[{{node gradients/split_1_grad/concat/split_1/split_dim}}]]\n"
     ]
    },
    {
     "name": "stdout",
     "output_type": "stream",
     "text": [
      "79/79 [==============================] - ETA: 0s - loss: 0.6142 - accuracy: 0.6668 - binary_accuracy: 0.6668"
     ]
    },
    {
     "name": "stderr",
     "output_type": "stream",
     "text": [
      "2024-05-23 11:59:45.541488: I tensorflow/core/common_runtime/executor.cc:1197] [/device:CPU:0] (DEBUG INFO) Executor start aborting (this does not indicate an error and you can ignore this message): INVALID_ARGUMENT: You must feed a value for placeholder tensor 'gradients/split_2_grad/concat/split_2/split_dim' with dtype int32\n",
      "\t [[{{node gradients/split_2_grad/concat/split_2/split_dim}}]]\n",
      "2024-05-23 11:59:45.543018: I tensorflow/core/common_runtime/executor.cc:1197] [/device:CPU:0] (DEBUG INFO) Executor start aborting (this does not indicate an error and you can ignore this message): INVALID_ARGUMENT: You must feed a value for placeholder tensor 'gradients/split_grad/concat/split/split_dim' with dtype int32\n",
      "\t [[{{node gradients/split_grad/concat/split/split_dim}}]]\n",
      "2024-05-23 11:59:45.544278: I tensorflow/core/common_runtime/executor.cc:1197] [/device:CPU:0] (DEBUG INFO) Executor start aborting (this does not indicate an error and you can ignore this message): INVALID_ARGUMENT: You must feed a value for placeholder tensor 'gradients/split_1_grad/concat/split_1/split_dim' with dtype int32\n",
      "\t [[{{node gradients/split_1_grad/concat/split_1/split_dim}}]]\n"
     ]
    },
    {
     "name": "stdout",
     "output_type": "stream",
     "text": [
      "79/79 [==============================] - 29s 328ms/step - loss: 0.6142 - accuracy: 0.6668 - binary_accuracy: 0.6668 - val_loss: 0.4959 - val_accuracy: 0.7686 - val_binary_accuracy: 0.7686\n",
      "Epoch 2/10\n",
      "79/79 [==============================] - 25s 311ms/step - loss: 0.4568 - accuracy: 0.7921 - binary_accuracy: 0.7921 - val_loss: 0.4750 - val_accuracy: 0.7789 - val_binary_accuracy: 0.7789\n",
      "Epoch 3/10\n",
      "79/79 [==============================] - 22s 283ms/step - loss: 0.4251 - accuracy: 0.8133 - binary_accuracy: 0.8133 - val_loss: 0.4754 - val_accuracy: 0.7804 - val_binary_accuracy: 0.7804\n",
      "Epoch 4/10\n",
      "79/79 [==============================] - 25s 314ms/step - loss: 0.4102 - accuracy: 0.8221 - binary_accuracy: 0.8221 - val_loss: 0.4861 - val_accuracy: 0.7710 - val_binary_accuracy: 0.7710\n",
      "Epoch 5/10\n",
      "79/79 [==============================] - 22s 285ms/step - loss: 0.4001 - accuracy: 0.8289 - binary_accuracy: 0.8289 - val_loss: 0.4916 - val_accuracy: 0.7764 - val_binary_accuracy: 0.7764\n",
      "Epoch 6/10\n",
      "79/79 [==============================] - 27s 344ms/step - loss: 0.3878 - accuracy: 0.8352 - binary_accuracy: 0.8352 - val_loss: 0.4992 - val_accuracy: 0.7729 - val_binary_accuracy: 0.7729\n",
      "Epoch 7/10\n",
      "79/79 [==============================] - 25s 316ms/step - loss: 0.3749 - accuracy: 0.8425 - binary_accuracy: 0.8425 - val_loss: 0.5086 - val_accuracy: 0.7685 - val_binary_accuracy: 0.7685\n",
      "Epoch 8/10\n",
      "79/79 [==============================] - 29s 365ms/step - loss: 0.3641 - accuracy: 0.8492 - binary_accuracy: 0.8492 - val_loss: 0.5137 - val_accuracy: 0.7661 - val_binary_accuracy: 0.7661\n",
      "Epoch 9/10\n",
      "79/79 [==============================] - 24s 300ms/step - loss: 0.3533 - accuracy: 0.8547 - binary_accuracy: 0.8547 - val_loss: 0.5281 - val_accuracy: 0.7635 - val_binary_accuracy: 0.7635\n",
      "Epoch 10/10\n",
      "79/79 [==============================] - 24s 308ms/step - loss: 0.3421 - accuracy: 0.8596 - binary_accuracy: 0.8596 - val_loss: 0.5449 - val_accuracy: 0.7635 - val_binary_accuracy: 0.7635\n"
     ]
    }
   ],
   "source": [
    "history = model.fit(\n",
    "    X_train, y_train,\n",
    "    validation_data = (X_valid, y_valid),\n",
    "    batch_size = hp.batch_size,\n",
    "    epochs= hp.epochs,\n",
    ")"
   ]
  },
  {
   "cell_type": "code",
   "execution_count": 7,
   "id": "4aafc5ea-432f-43ca-9ada-f16d7ba2be04",
   "metadata": {},
   "outputs": [],
   "source": [
    "### Saving model\n",
    "model.save('gru.keras')"
   ]
  }
 ],
 "metadata": {
  "kernelspec": {
   "display_name": "Python 3 (ipykernel)",
   "language": "python",
   "name": "python3"
  },
  "language_info": {
   "codemirror_mode": {
    "name": "ipython",
    "version": 3
   },
   "file_extension": ".py",
   "mimetype": "text/x-python",
   "name": "python",
   "nbconvert_exporter": "python",
   "pygments_lexer": "ipython3",
   "version": "3.11.5"
  }
 },
 "nbformat": 4,
 "nbformat_minor": 5
}
