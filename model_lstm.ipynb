{
 "cells": [
  {
   "cell_type": "code",
   "execution_count": 1,
   "id": "db16bf8f-94d1-44f8-8c53-1146f289bfe9",
   "metadata": {},
   "outputs": [
    {
     "name": "stderr",
     "output_type": "stream",
     "text": [
      "2024-05-23 15:07:11.512932: I tensorflow/core/platform/cpu_feature_guard.cc:182] This TensorFlow binary is optimized to use available CPU instructions in performance-critical operations.\n",
      "To enable the following instructions: SSE4.1 SSE4.2 AVX AVX2 FMA, in other operations, rebuild TensorFlow with the appropriate compiler flags.\n"
     ]
    }
   ],
   "source": [
    "import pandas as pd\n",
    "from sklearn.model_selection import train_test_split\n",
    "\n",
    "import tensorflow as tf\n",
    "from tensorflow import keras\n",
    "from tensorflow.keras.utils import pad_sequences\n",
    "from tensorflow.keras.preprocessing.text import Tokenizer\n",
    "from tensorflow.keras.preprocessing.text import tokenizer_from_json\n",
    "\n",
    "import json\n",
    "\n",
    "import hyperparams as hp"
   ]
  },
  {
   "cell_type": "code",
   "execution_count": 2,
   "id": "55e5774f-ba3e-4ee3-badc-aa254aaa970f",
   "metadata": {},
   "outputs": [],
   "source": [
    "### Load data\n",
    "clean = pd.read_csv('train.csv')"
   ]
  },
  {
   "cell_type": "code",
   "execution_count": 3,
   "id": "35e29715-256a-437e-83e8-2252c842ad6f",
   "metadata": {},
   "outputs": [],
   "source": [
    "### Load fitted tokenizer\n",
    "with open('tokenizer.json') as file:\n",
    "    data = json.load(file)\n",
    "    tokenizer = tokenizer_from_json(data)"
   ]
  },
  {
   "cell_type": "code",
   "execution_count": 4,
   "id": "a876d6e4-1aed-44f0-8f10-46744ae904fb",
   "metadata": {},
   "outputs": [],
   "source": [
    "### Convert text to vectors\n",
    "\n",
    "X = tokenizer.texts_to_sequences(clean['text'].values)\n",
    "X = pad_sequences(X, maxlen = hp.max_length)\n",
    "y = clean.target\n",
    "\n",
    "X_train, X_valid, y_train, y_valid = train_test_split(\n",
    "    X, y, \n",
    "    test_size = 0.2, \n",
    "    random_state = 42, \n",
    "    stratify=y\n",
    ")"
   ]
  },
  {
   "cell_type": "code",
   "execution_count": 7,
   "id": "8293ddfc-503e-4db0-9b12-f9c88c5bf8d5",
   "metadata": {},
   "outputs": [
    {
     "name": "stdout",
     "output_type": "stream",
     "text": [
      "Model: \"sequential_1\"\n",
      "_________________________________________________________________\n",
      " Layer (type)                Output Shape              Param #   \n",
      "=================================================================\n",
      " embedding_1 (Embedding)     (None, 100, 32)           480000    \n",
      "                                                                 \n",
      " lstm_1 (LSTM)               (None, 32)                8320      \n",
      "                                                                 \n",
      " dense_2 (Dense)             (None, 32)                1056      \n",
      "                                                                 \n",
      " dense_3 (Dense)             (None, 1)                 33        \n",
      "                                                                 \n",
      "=================================================================\n",
      "Total params: 489,409\n",
      "Trainable params: 489,409\n",
      "Non-trainable params: 0\n",
      "_________________________________________________________________\n"
     ]
    },
    {
     "name": "stderr",
     "output_type": "stream",
     "text": [
      "2024-05-23 15:09:24.145208: I tensorflow/core/common_runtime/executor.cc:1197] [/device:CPU:0] (DEBUG INFO) Executor start aborting (this does not indicate an error and you can ignore this message): INVALID_ARGUMENT: You must feed a value for placeholder tensor 'gradients/split_2_grad/concat/split_2/split_dim' with dtype int32\n",
      "\t [[{{node gradients/split_2_grad/concat/split_2/split_dim}}]]\n",
      "2024-05-23 15:09:24.148423: I tensorflow/core/common_runtime/executor.cc:1197] [/device:CPU:0] (DEBUG INFO) Executor start aborting (this does not indicate an error and you can ignore this message): INVALID_ARGUMENT: You must feed a value for placeholder tensor 'gradients/split_grad/concat/split/split_dim' with dtype int32\n",
      "\t [[{{node gradients/split_grad/concat/split/split_dim}}]]\n",
      "2024-05-23 15:09:24.150492: I tensorflow/core/common_runtime/executor.cc:1197] [/device:CPU:0] (DEBUG INFO) Executor start aborting (this does not indicate an error and you can ignore this message): INVALID_ARGUMENT: You must feed a value for placeholder tensor 'gradients/split_1_grad/concat/split_1/split_dim' with dtype int32\n",
      "\t [[{{node gradients/split_1_grad/concat/split_1/split_dim}}]]\n"
     ]
    }
   ],
   "source": [
    "model = keras.Sequential([\n",
    "    keras.layers.Embedding(hp.vocab_size, hp.embedding_dim, input_length = hp.max_length),\n",
    "    keras.layers.LSTM(32),\n",
    "    keras.layers.Dense(units=32, activation='relu'),\n",
    "    keras.layers.Dense(units=1, activation='sigmoid')\n",
    "])\n",
    "\n",
    "model.summary()\n",
    "\n",
    "model.compile(loss='binary_crossentropy', optimizer='adam', metrics=['binary_accuracy'])"
   ]
  },
  {
   "cell_type": "code",
   "execution_count": 8,
   "id": "02b9f4cf-299e-4bff-8899-d823d50b3746",
   "metadata": {},
   "outputs": [
    {
     "name": "stdout",
     "output_type": "stream",
     "text": [
      "Epoch 1/10\n"
     ]
    },
    {
     "name": "stderr",
     "output_type": "stream",
     "text": [
      "2024-05-23 15:09:28.747534: I tensorflow/core/common_runtime/executor.cc:1197] [/device:CPU:0] (DEBUG INFO) Executor start aborting (this does not indicate an error and you can ignore this message): INVALID_ARGUMENT: You must feed a value for placeholder tensor 'gradients/split_2_grad/concat/split_2/split_dim' with dtype int32\n",
      "\t [[{{node gradients/split_2_grad/concat/split_2/split_dim}}]]\n",
      "2024-05-23 15:09:28.749441: I tensorflow/core/common_runtime/executor.cc:1197] [/device:CPU:0] (DEBUG INFO) Executor start aborting (this does not indicate an error and you can ignore this message): INVALID_ARGUMENT: You must feed a value for placeholder tensor 'gradients/split_grad/concat/split/split_dim' with dtype int32\n",
      "\t [[{{node gradients/split_grad/concat/split/split_dim}}]]\n",
      "2024-05-23 15:09:28.751379: I tensorflow/core/common_runtime/executor.cc:1197] [/device:CPU:0] (DEBUG INFO) Executor start aborting (this does not indicate an error and you can ignore this message): INVALID_ARGUMENT: You must feed a value for placeholder tensor 'gradients/split_1_grad/concat/split_1/split_dim' with dtype int32\n",
      "\t [[{{node gradients/split_1_grad/concat/split_1/split_dim}}]]\n",
      "2024-05-23 15:09:29.647048: I tensorflow/core/common_runtime/executor.cc:1197] [/device:CPU:0] (DEBUG INFO) Executor start aborting (this does not indicate an error and you can ignore this message): INVALID_ARGUMENT: You must feed a value for placeholder tensor 'gradients/split_2_grad/concat/split_2/split_dim' with dtype int32\n",
      "\t [[{{node gradients/split_2_grad/concat/split_2/split_dim}}]]\n",
      "2024-05-23 15:09:29.650830: I tensorflow/core/common_runtime/executor.cc:1197] [/device:CPU:0] (DEBUG INFO) Executor start aborting (this does not indicate an error and you can ignore this message): INVALID_ARGUMENT: You must feed a value for placeholder tensor 'gradients/split_grad/concat/split/split_dim' with dtype int32\n",
      "\t [[{{node gradients/split_grad/concat/split/split_dim}}]]\n",
      "2024-05-23 15:09:29.653974: I tensorflow/core/common_runtime/executor.cc:1197] [/device:CPU:0] (DEBUG INFO) Executor start aborting (this does not indicate an error and you can ignore this message): INVALID_ARGUMENT: You must feed a value for placeholder tensor 'gradients/split_1_grad/concat/split_1/split_dim' with dtype int32\n",
      "\t [[{{node gradients/split_1_grad/concat/split_1/split_dim}}]]\n"
     ]
    },
    {
     "name": "stdout",
     "output_type": "stream",
     "text": [
      "79/79 [==============================] - ETA: 0s - loss: 0.6159 - binary_accuracy: 0.6625"
     ]
    },
    {
     "name": "stderr",
     "output_type": "stream",
     "text": [
      "2024-05-23 15:09:58.671567: I tensorflow/core/common_runtime/executor.cc:1197] [/device:CPU:0] (DEBUG INFO) Executor start aborting (this does not indicate an error and you can ignore this message): INVALID_ARGUMENT: You must feed a value for placeholder tensor 'gradients/split_2_grad/concat/split_2/split_dim' with dtype int32\n",
      "\t [[{{node gradients/split_2_grad/concat/split_2/split_dim}}]]\n",
      "2024-05-23 15:09:58.673040: I tensorflow/core/common_runtime/executor.cc:1197] [/device:CPU:0] (DEBUG INFO) Executor start aborting (this does not indicate an error and you can ignore this message): INVALID_ARGUMENT: You must feed a value for placeholder tensor 'gradients/split_grad/concat/split/split_dim' with dtype int32\n",
      "\t [[{{node gradients/split_grad/concat/split/split_dim}}]]\n",
      "2024-05-23 15:09:58.674200: I tensorflow/core/common_runtime/executor.cc:1197] [/device:CPU:0] (DEBUG INFO) Executor start aborting (this does not indicate an error and you can ignore this message): INVALID_ARGUMENT: You must feed a value for placeholder tensor 'gradients/split_1_grad/concat/split_1/split_dim' with dtype int32\n",
      "\t [[{{node gradients/split_1_grad/concat/split_1/split_dim}}]]\n"
     ]
    },
    {
     "name": "stdout",
     "output_type": "stream",
     "text": [
      "79/79 [==============================] - 33s 385ms/step - loss: 0.6159 - binary_accuracy: 0.6625 - val_loss: 0.5064 - val_binary_accuracy: 0.7620\n",
      "Epoch 2/10\n",
      "79/79 [==============================] - 28s 355ms/step - loss: 0.4589 - binary_accuracy: 0.7906 - val_loss: 0.4746 - val_binary_accuracy: 0.7783\n",
      "Epoch 3/10\n",
      "79/79 [==============================] - 30s 378ms/step - loss: 0.4252 - binary_accuracy: 0.8106 - val_loss: 0.4722 - val_binary_accuracy: 0.7786\n",
      "Epoch 4/10\n",
      "79/79 [==============================] - 30s 376ms/step - loss: 0.4094 - binary_accuracy: 0.8190 - val_loss: 0.4825 - val_binary_accuracy: 0.7772\n",
      "Epoch 5/10\n",
      "79/79 [==============================] - 32s 404ms/step - loss: 0.3981 - binary_accuracy: 0.8261 - val_loss: 0.4808 - val_binary_accuracy: 0.7771\n",
      "Epoch 6/10\n",
      "79/79 [==============================] - 31s 394ms/step - loss: 0.3892 - binary_accuracy: 0.8311 - val_loss: 0.4947 - val_binary_accuracy: 0.7742\n",
      "Epoch 7/10\n",
      "79/79 [==============================] - 28s 359ms/step - loss: 0.3808 - binary_accuracy: 0.8361 - val_loss: 0.4930 - val_binary_accuracy: 0.7704\n",
      "Epoch 8/10\n",
      "79/79 [==============================] - 34s 437ms/step - loss: 0.3728 - binary_accuracy: 0.8407 - val_loss: 0.4944 - val_binary_accuracy: 0.7734\n",
      "Epoch 9/10\n",
      "79/79 [==============================] - 31s 391ms/step - loss: 0.3611 - binary_accuracy: 0.8473 - val_loss: 0.5106 - val_binary_accuracy: 0.7717\n",
      "Epoch 10/10\n",
      "79/79 [==============================] - 34s 428ms/step - loss: 0.3508 - binary_accuracy: 0.8534 - val_loss: 0.5321 - val_binary_accuracy: 0.7664\n"
     ]
    }
   ],
   "source": [
    "history = model.fit(\n",
    "    X_train, y_train,\n",
    "    validation_data=(X_valid, y_valid),\n",
    "    batch_size = hp.batch_size,\n",
    "    epochs= hp.epochs,\n",
    ")"
   ]
  },
  {
   "cell_type": "code",
   "execution_count": 9,
   "id": "5474345e-5586-48cf-a9ed-d8352f5b288f",
   "metadata": {},
   "outputs": [],
   "source": [
    "### Saving model\n",
    "model.save('lstm.keras')"
   ]
  },
  {
   "cell_type": "code",
   "execution_count": null,
   "id": "e6fbd724-8a3e-44ee-bf35-d0c9641eda7b",
   "metadata": {},
   "outputs": [],
   "source": [
    "# data1 = tokenizer.texts_to_sequences(['i wanna slit your throat and fuck the wound'])\n",
    "# data2 = tokenizer.texts_to_sequences(['i love chicken stew'])\n",
    "# data_pad1 = pad_sequences(data1, maxlen = hp.max_length)\n",
    "# data_pad2 = pad_sequences(data2, maxlen = hp.max_length)\n",
    "\n",
    "# print(data1, data2)\n",
    "\n",
    "# p1 = model.predict(data_pad1)\n",
    "# p2 = model.predict(data_pad2)\n",
    "\n",
    "# print(p1, p2)"
   ]
  },
  {
   "cell_type": "code",
   "execution_count": null,
   "id": "ea81bbf3-66b9-423f-bad8-3903233da58d",
   "metadata": {},
   "outputs": [],
   "source": [
    "# for i in range(3): \n",
    "#     text = input('message: ')\n",
    "\n",
    "#     data = tokenizer.texts_to_sequences([text])\n",
    "#     padded = pad_sequences(data, maxlen = hp.max_length)\n",
    "\n",
    "#     p = model.predict(padded)[0][0]\n",
    "\n",
    "#     print(f'{p} --> ', end='')\n",
    "          \n",
    "#     if p > 0.5:\n",
    "#         print('positive')\n",
    "#     else:\n",
    "#         print('negative')"
   ]
  }
 ],
 "metadata": {
  "kernelspec": {
   "display_name": "Python 3 (ipykernel)",
   "language": "python",
   "name": "python3"
  },
  "language_info": {
   "codemirror_mode": {
    "name": "ipython",
    "version": 3
   },
   "file_extension": ".py",
   "mimetype": "text/x-python",
   "name": "python",
   "nbconvert_exporter": "python",
   "pygments_lexer": "ipython3",
   "version": "3.11.5"
  }
 },
 "nbformat": 4,
 "nbformat_minor": 5
}
