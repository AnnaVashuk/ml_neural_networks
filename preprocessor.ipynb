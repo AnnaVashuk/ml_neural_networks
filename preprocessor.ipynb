{
 "cells": [
  {
   "cell_type": "code",
   "execution_count": 1,
   "id": "ac7bdc0a-f124-4999-81c2-7645e04ee340",
   "metadata": {},
   "outputs": [],
   "source": [
    "import pandas as pd\n",
    "import re\n",
    "\n",
    "# Zero is negative, one is positive\n",
    "def classifier(x):\n",
    "    if x == 0:\n",
    "        return 0\n",
    "    elif x == 4:\n",
    "        return 1\n",
    "    else:\n",
    "        raise Exception('Unknown class!')\n",
    "\n",
    "def clean_text(text):\n",
    "    text = re.sub(r'@[A-Za-z0-9]+(_[A-Za-z0-9]*)*', '', text)  # Remove tags\n",
    "    text = re.sub(r'#', '', text)\n",
    "    text = re.sub(r'https?:\\/\\/\\S+', '', text)  # Remove links\n",
    "    text = re.sub(r'www\\.\\S+\\.\\S+', '', text)\n",
    "    text = re.sub(r'[^\\w\\s]', '', text)  # Remove non-aphabetic characters\n",
    "    return text"
   ]
  },
  {
   "cell_type": "code",
   "execution_count": 2,
   "id": "77284f67-7a1e-428b-9265-a8d99bf98661",
   "metadata": {},
   "outputs": [],
   "source": [
    "### Load data\n",
    "data = pd.read_csv('source.csv', encoding = \"ISO-8859-1\")"
   ]
  },
  {
   "cell_type": "code",
   "execution_count": 3,
   "id": "5cd00ec6-2865-43bc-8a09-4b52266ea5ba",
   "metadata": {},
   "outputs": [],
   "source": [
    "### Remove unwanted data\n",
    "clean = pd.DataFrame({'target': data.iloc[:, 0].map(classifier), 'text': data.iloc[:, 5]})\n",
    "\n",
    "### Clean with regular expressions\n",
    "clean['text'] = clean['text'].apply(clean_text)\n",
    "\n",
    "### Drop duplicates\n",
    "clean = clean.drop_duplicates(subset=['text'])"
   ]
  },
  {
   "cell_type": "code",
   "execution_count": 6,
   "id": "f78628e6-ec60-44c5-9240-632a011ca88d",
   "metadata": {},
   "outputs": [],
   "source": [
    "# Balancing classes\n",
    "\n",
    "### Split by class\n",
    "data0 = clean[clean.target == 0]\n",
    "data1 = clean[clean.target == 1]\n",
    "\n",
    "### Shuffle to mitigate \"the worst case\"\n",
    "data0 = data0.sample(frac=1)\n",
    "data1 = data1.sample(frac=1)\n",
    "\n",
    "# number_of_rows = min(data0.shape[0], data1.shape[0])\n",
    "\n",
    "# For test now\n",
    "number_of_rows = 50000\n",
    "\n",
    "\n",
    "### Separate for train and test\n",
    "\n",
    "### Make them of the same length\n",
    "train0 = data0.head(number_of_rows)\n",
    "train1 = data1.head(number_of_rows)\n",
    "\n",
    "test0 = data0.iloc[number_of_rows:2*number_of_rows]\n",
    "test1 = data1.iloc[number_of_rows:2*number_of_rows]\n",
    "\n",
    "### Put them back to one dataset\n",
    "train = pd.concat([train0, train1])\n",
    "test = pd.concat([test0, test1])\n",
    "\n",
    "train.to_csv('train.csv', index = False, encoding = 'utf-8')\n",
    "test.to_csv('test.csv', index = False, encoding = 'utf-8')"
   ]
  }
 ],
 "metadata": {
  "kernelspec": {
   "display_name": "Python 3 (ipykernel)",
   "language": "python",
   "name": "python3"
  },
  "language_info": {
   "codemirror_mode": {
    "name": "ipython",
    "version": 3
   },
   "file_extension": ".py",
   "mimetype": "text/x-python",
   "name": "python",
   "nbconvert_exporter": "python",
   "pygments_lexer": "ipython3",
   "version": "3.11.5"
  }
 },
 "nbformat": 4,
 "nbformat_minor": 5
}
